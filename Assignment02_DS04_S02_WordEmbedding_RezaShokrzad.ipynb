{
  "cells": [
    {
      "cell_type": "markdown",
      "metadata": {
        "id": "view-in-github",
        "colab_type": "text"
      },
      "source": [
        "<a href=\"https://colab.research.google.com/github/dinakeshvari/NLP_Exercise_ShokrzadCourse/blob/main/Assignment02_DS04_S02_WordEmbedding_RezaShokrzad.ipynb\" target=\"_parent\"><img src=\"https://colab.research.google.com/assets/colab-badge.svg\" alt=\"Open In Colab\"/></a>"
      ]
    },
    {
      "cell_type": "markdown",
      "source": [
        "# 📌 NLP Assignment: Word Embeddings & Vectorization\n"
      ],
      "metadata": {
        "id": "9Ofwn8ltLtg6"
      }
    },
    {
      "cell_type": "markdown",
      "source": [
        "## 🎯 Objective:\n",
        "This assignment will deepen your understanding of word vectorization techniques: TF-IDF, Word2Vec, FastText, and GloVe.\n",
        "Your goal is to fill in the blanks and complete the implementation.\n",
        "\n"
      ],
      "metadata": {
        "id": "H1n9RW0xLvBJ"
      }
    },
    {
      "cell_type": "markdown",
      "source": [
        "## 1️⃣ TF-IDF: Identifying Fake vs. Real News Based on Keyword\n",
        "**Task:**\n",
        "* Use TfidfVectorizer from scikit-learn to extract important words from a given document.\n",
        "* Identify the top 5 most Top Keywords in fake and real news.\n"
      ],
      "metadata": {
        "id": "EwWVBWDTLz2p"
      }
    },
    {
      "cell_type": "code",
      "source": [
        "import pandas as pd\n",
        "from sklearn.feature_extraction.text import TfidfVectorizer\n",
        "\n",
        "# Sample dataset (Fake & Real News Headlines)\n",
        "data = {\n",
        "    \"headline\": [\n",
        "        \"Breaking: Celebrity Caught in Secret Scandal! Fans are shocked as leaked footage surfaces online.\",\n",
        "        \"Scientists Discover New Planet With Signs of Life! Astronomers say it could have a habitable atmosphere.\",\n",
        "        \"Government Hiding Truth About UFOs, Says Insider! Documents reveal classified reports on alien encounters.\",\n",
        "        \"New Study Shows Coffee Can Extend Your Lifespan. Researchers find evidence linking caffeine to longevity.\",\n",
        "        \"Shocking: Politician Involved in Money Laundering Scheme! Investigation uncovers offshore bank accounts.\",\n",
        "        \"NASA Confirms Water on Mars, A Big Step for Space Exploration. Experts believe this could lead to human settlement.\"\n",
        "    ],\n",
        "    \"label\": [\"fake\", \"real\", \"fake\", \"real\", \"fake\", \"real\"]  # Labels: \"fake\" or \"real\"\n",
        "}\n",
        "\n",
        "# Convert to DataFrame\n",
        "df = pd.__________(data)\n",
        "\n",
        "# Initialize TF-IDF Vectorizer\n",
        "vectorizer = TfidfVectorizer(stop_words=\"__________\")\n",
        "\n",
        "# Fit and transform headlines\n",
        "tfidf_matrix = __________.__________(df[\"headline\"])\n",
        "\n",
        "# Convert to DataFrame\n",
        "tfidf_df = pd.DataFrame(__________.toarray(), columns=__________.get_feature_names_out())\n",
        "\n",
        "# Compute average TF-IDF score per category (fake vs. real)\n",
        "df_tfidf = pd.concat([df, tfidf_df], axis=__________)\n",
        "fake_avg = df_tfidf[df_tfidf[\"label\"] == \"fake\"].iloc[:, 2:].__________().sort_values(ascending=False)\n",
        "real_avg = df_tfidf[df_tfidf[\"label\"] == \"real\"].iloc[:, 2:].mean().__________(ascending=False)\n",
        "\n",
        "# Display results\n",
        "print(\"\\n🔹 Top Keywords in **Fake News**:\")\n",
        "print(fake_avg.head(__________))\n",
        "\n",
        "print(\"\\n🔹 Top Keywords in **Real News**:\")\n",
        "print(real_avg.head(__________))\n"
      ],
      "metadata": {
        "id": "CHPRJAHOUEBK"
      },
      "execution_count": null,
      "outputs": []
    },
    {
      "cell_type": "markdown",
      "source": [
        "## 2️⃣ Word2Vec: Training Word Embeddings from Text\n",
        "**Task:**\n",
        "* Train a Word2Vec model using the Gensim library.\n",
        "* Extract and display the 5 most similar words to \"NLP\"."
      ],
      "metadata": {
        "id": "_b4IJdZDL_JY"
      }
    },
    {
      "cell_type": "code",
      "source": [
        "import nltk\n",
        "import gensim\n",
        "from __________.models import Word2Vec\n",
        "from nltk.__________ import word_tokenize\n",
        "from nltk.__________ import stopwords\n",
        "import string\n",
        "\n",
        "# Download necessary resources\n",
        "nltk.download('punkt')\n",
        "nltk.download('stopwords')\n",
        "\n",
        "# Sample corpus (Multiple Sentences for Better Training)\n",
        "text_data = [\n",
        "    \"Natural Language Processing helps machines understand human language.\",\n",
        "    \"Machine learning models improve NLP tasks significantly.\",\n",
        "    \"Word embeddings like Word2Vec capture word meanings in large datasets.\",\n",
        "    \"Deep learning methods such as transformers are revolutionizing NLP.\",\n",
        "    \"TF-IDF is used for ranking important words in documents.\"\n",
        "]\n",
        "\n",
        "# Preprocessing Function (Remove Stopwords & Punctuation)\n",
        "def preprocess(text):\n",
        "    tokens = __________(text.__________())  # Tokenize & Lowercase\n",
        "    tokens = [__________ for word in __________ if word.isalnum() and word not in stopwords.__________('__________')]  # Remove stopwords & punctuation\n",
        "    return tokens\n",
        "\n",
        "# Preprocess all sentences\n",
        "tokenized_corpus = [preprocess(sentence) for __________ in text_data]\n",
        "\n",
        "# Train Word2Vec Model with a vector size of 100 and sliding window of 5 and four workers\n",
        "model = Word2Vec(sentences=__________, vector_size=__________, window=__________, min_count=1, __________=4)\n",
        "\n",
        "# Find most similar words to \"language\"\n",
        "similar_words = model.__________.most_similar(\"models\", __________=5)\n",
        "\n",
        "print(\"Top 5 words similar to 'language':\", similar_words)\n"
      ],
      "metadata": {
        "id": "jruHk2EdMkcd"
      },
      "execution_count": null,
      "outputs": []
    },
    {
      "cell_type": "markdown",
      "source": [
        "## 3️⃣ FastText: Handling Rare Words in Embeddings\n",
        "**Task:**\n",
        "* Train a FastText model on a simple dataset.\n",
        "* Test it on an out-of-vocabulary (OOV) word to see how it performs compared to Word2Vec."
      ],
      "metadata": {
        "id": "8C37bBP6ME5L"
      }
    },
    {
      "cell_type": "code",
      "source": [
        "\n",
        "# FastText: Handling Rare Words in Embeddings\n",
        "from gensim.__________ import FastText\n",
        "\n",
        "# Sample corpus\n",
        "text_data = [\n",
        "    \"Deep learning powers NLP applications.\",\n",
        "    \"FastText can generate word vectors for unseen words.\",\n",
        "    \"Word embeddings are useful in semantic search.\",\n",
        "]\n",
        "\n",
        "# Tokenize text\n",
        "tokenized_corpus = [__________(sentence.__________()) for sentence in __________]\n",
        "\n",
        "# Train FastText model\n",
        "fasttext_model = FastText(sentences=tokenized_corpus, __________=100, __________=5, __________=1, __________=4)\n",
        "\n",
        "# Test on an OOV word\n",
        "oov_word = \"nlptech\"\n",
        "vector_representation = __________.wv[oov_word]\n",
        "\n",
        "print(f\"Vector for '{oov_word}':\", vector_representation[:10])  # Show first 5 dimensions\n"
      ],
      "metadata": {
        "id": "I5IaxWl0M9J0"
      },
      "execution_count": null,
      "outputs": []
    },
    {
      "cell_type": "markdown",
      "source": [
        "## 4️⃣ GloVe: Using Pre-Trained Embeddings\n",
        "**Task:**\n",
        "* Load pre-trained GloVe embeddings.\n",
        "* Find the cosine similarity between \"king\" and \"queen\"."
      ],
      "metadata": {
        "id": "PVHtya2UMI1K"
      }
    },
    {
      "cell_type": "code",
      "source": [
        "\n",
        "# Download glove Embedding\n",
        "import urllib.request\n",
        "import os\n",
        "import zipfile\n",
        "\n",
        "url = 'https://huggingface.co/stanfordnlp/glove/resolve/main/glove.6B.zip'\n",
        "output = os.__________.join(__________.getcwd(), 'glove.6B.zip')  # Save to the current working directory\n",
        "\n",
        "urllib.__________.urlretrieve(__________, __________)\n",
        "\n",
        "# Unzip the file\n",
        "with zipfile.__________('./glove.6B.zip', 'r') as __________:\n",
        "    zip_ref.__________('./glove')\n",
        "\n"
      ],
      "metadata": {
        "id": "7jaRL1moNV1j"
      },
      "execution_count": null,
      "outputs": []
    },
    {
      "cell_type": "code",
      "source": [
        "\n",
        "# GloVe: Using Pre-Trained Embeddings\n",
        "import __________ as __________\n",
        "\n",
        "# Load GloVe embeddings\n",
        "glove_path = \"./__________/glove.6B.100d.txt\"  # Ensure you have this file\n",
        "\n",
        "# Read the file and store embeddings\n",
        "embeddings_dict = {}\n",
        "__________ open(glove_path, \"r\", __________=\"utf-8\") as f:\n",
        "    for line in f:\n",
        "        values = __________.split()\n",
        "        word = values[0]\n",
        "        vector = np.__________(values[1:], __________=\"float32\")\n",
        "        embeddings_dict[word] = vector\n",
        "\n",
        "# Compute cosine similarity\n",
        "def cosine_similarity(vec1, vec2):\n",
        "    return np.__________(vec1, vec2) / (np.__________.norm(vec1) * np.linalg.__________(vec2))\n",
        "\n",
        "# Test similarity between \"king\" and \"queen\"\n",
        "vector_king = embeddings_dict[\"king\"]\n",
        "vector_queen = embeddings_dict[\"queen\"]\n",
        "similarity_score = __________(vector_king, vector_queen)\n",
        "\n",
        "print(\"Cosine similarity between 'king' and 'queen':\", __________)\n"
      ],
      "metadata": {
        "id": "fK79UlTDNBCX"
      },
      "execution_count": null,
      "outputs": []
    }
  ],
  "metadata": {
    "colab": {
      "provenance": [],
      "include_colab_link": true
    },
    "kernelspec": {
      "display_name": "Python 3",
      "name": "python3"
    }
  },
  "nbformat": 4,
  "nbformat_minor": 0
}